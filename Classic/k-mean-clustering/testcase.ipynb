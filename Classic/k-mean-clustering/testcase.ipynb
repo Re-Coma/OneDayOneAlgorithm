{
 "cells": [
  {
   "cell_type": "code",
   "execution_count": 1,
   "metadata": {},
   "outputs": [],
   "source": [
    "from Kmeans import Kmeans\n",
    "import matplotlib.pyplot as plt\n",
    "import random"
   ]
  },
  {
   "cell_type": "code",
   "execution_count": 2,
   "metadata": {},
   "outputs": [],
   "source": [
    "# Make Random Spots(only 2 dimension)\n",
    "def random_generator(size, x_min, x_max, y_min, y_max):\n",
    "    ran_list = []\n",
    "    for i in range(0, size):\n",
    "        ran_data = []\n",
    "        x = random.uniform(x_min, x_max)\n",
    "        y = random.uniform(y_min, y_max)\n",
    "        ran_data.append(x)\n",
    "        ran_data.append(y)\n",
    "        ran_list.append(ran_data)\n",
    "    return ran_list\n",
    "\n",
    "# Make spot set to x and y array (only 2 dimensions)\n",
    "def make_to_array(s, dimension):\n",
    "    \n",
    "    result_list = []\n",
    "    \n",
    "    #make empty\n",
    "    for dim in range(0, dimension):\n",
    "        result_list.append([])\n",
    "    \n",
    "    for i in range(len(s)):\n",
    "        for dim in range(0, dimension):\n",
    "            result_list[dim].append(s[i][dim])\n",
    "            \n",
    "    return result_list"
   ]
  },
  {
   "cell_type": "code",
   "execution_count": 3,
   "metadata": {},
   "outputs": [],
   "source": [
    "# make test sets\n",
    "\n",
    "s1 = random_generator(20, -1, 2, -2, -1)\n",
    "s2 = random_generator(24, 1, 3, 0, 3)\n",
    "s3 = random_generator(26, 3, 5, -2, -1)"
   ]
  },
  {
   "cell_type": "code",
   "execution_count": 4,
   "metadata": {},
   "outputs": [],
   "source": [
    "# to array\n",
    "s1_arr = make_to_array(s1, 2)\n",
    "s2_arr = make_to_array(s2, 2)\n",
    "s3_arr = make_to_array(s3, 2)"
   ]
  },
  {
   "cell_type": "code",
   "execution_count": 5,
   "metadata": {},
   "outputs": [],
   "source": [
    "# make x, y array\n",
    "x = s1_arr[0] + s2_arr[0] + s3_arr[0]\n",
    "y = s1_arr[1] + s2_arr[1] + s3_arr[1]"
   ]
  },
  {
   "cell_type": "code",
   "execution_count": 6,
   "metadata": {},
   "outputs": [],
   "source": [
    "k = Kmeans(2, s1+s2+s3)\n",
    "result = k(3)"
   ]
  },
  {
   "cell_type": "code",
   "execution_count": 7,
   "metadata": {},
   "outputs": [],
   "source": [
    "arr = make_to_array(result[0], 2)"
   ]
  },
  {
   "cell_type": "code",
   "execution_count": 8,
   "metadata": {},
   "outputs": [
    {
     "data": {
      "image/png": "[encoded data removed]",
      "text/plain": [
       "<Figure size 432x288 with 1 Axes>"
      ]
     },
     "metadata": {
      "needs_background": "light"
     },
     "output_type": "display_data"
    }
   ],
   "source": [
    "plt.scatter(x, y, edgecolor='b')\n",
    "plt.scatter(arr[0], arr[1], edgecolor='r')\n",
    "plt.show()"
   ]
  }
 ],
 "metadata": {
  "kernelspec": {
   "display_name": "Python 3",
   "language": "python",
   "name": "python3"
  },
  "language_info": {
   "codemirror_mode": {
    "name": "ipython",
    "version": 3
   },
   "file_extension": ".py",
   "mimetype": "text/x-python",
   "name": "python",
   "nbconvert_exporter": "python",
   "pygments_lexer": "ipython3",
   "version": "3.7.4"
  }
 },
 "nbformat": 4,
 "nbformat_minor": 2
}
